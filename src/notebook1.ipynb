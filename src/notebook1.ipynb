{
 "cells": [
  {
   "cell_type": "code",
   "execution_count": 38,
   "metadata": {
    "pycharm": {
     "name": "#%%\n"
    },
    "tags": []
   },
   "outputs": [],
   "source": [
    "import importGraph\n",
    "import revealGraph\n",
    "\n",
    "import pandas as pd\n",
    "from random import choice, randint"
   ]
  },
  {
   "cell_type": "code",
   "execution_count": 2,
   "metadata": {
    "collapsed": false,
    "jupyter": {
     "outputs_hidden": false
    },
    "pycharm": {
     "name": "#%%\n"
    }
   },
   "outputs": [],
   "source": [
    "rel_path = '../data/ger50_1m-1y/native.txt'\n",
    "rows_to_skip = 9, 7, 7\n",
    "network_nodes = 50\n",
    "network_edges = 88\n",
    "network_demands = 822 - 160"
   ]
  },
  {
   "cell_type": "code",
   "execution_count": 3,
   "metadata": {
    "collapsed": false,
    "jupyter": {
     "outputs_hidden": false
    },
    "pycharm": {
     "name": "#%%\n"
    }
   },
   "outputs": [],
   "source": [
    "nodes, edges, demands = importGraph.get_data_from_file(rel_path, network_nodes, network_edges, network_demands, rows_to_skip)"
   ]
  },
  {
   "cell_type": "code",
   "execution_count": 4,
   "metadata": {
    "collapsed": false,
    "jupyter": {
     "outputs_hidden": false
    },
    "pycharm": {
     "name": "#%%\n"
    }
   },
   "outputs": [
    {
     "name": "stdout",
     "output_type": "stream",
     "text": [
      "demands          CityA        CityB  Demand\n",
      "0        Essen  Duesseldorf    34.0\n",
      "1        Essen        Koeln     9.0\n",
      "2        Essen     Dortmund     9.0\n",
      "3        Essen       Aachen     2.0\n",
      "4        Essen     Muenster     2.0\n",
      "..         ...          ...     ...\n",
      "657  Nuernberg     Bayreuth     5.0\n",
      "658  Nuernberg    Wuerzburg    10.0\n",
      "659  Nuernberg   Regensburg     9.0\n",
      "660   Bayreuth    Wuerzburg     3.0\n",
      "661   Bayreuth   Regensburg     3.0\n",
      "\n",
      "[662 rows x 3 columns]\n",
      "Summary demand to satisfy:  2365.0\n"
     ]
    }
   ],
   "source": [
    "# print('nodes', nodes)\n",
    "# print('edges', nodes)\n",
    "print('demands', demands)\n",
    "print(\"Summary demand to satisfy: \", sum(demands.loc[:, \"Demand\"]))\n",
    "# revealGraph.plotGraph(nodes, edges)"
   ]
  },
  {
   "cell_type": "code",
   "execution_count": 21,
   "metadata": {
    "collapsed": false,
    "jupyter": {
     "outputs_hidden": false
    },
    "pycharm": {
     "name": "#%%\n"
    }
   },
   "outputs": [],
   "source": [
    "links = [f'{l[0]}_{l[1]}' for l in edges]"
   ]
  },
  {
   "cell_type": "code",
   "execution_count": 29,
   "metadata": {},
   "outputs": [],
   "source": [
    "chromosome = pd.DataFrame({'links': links, 'transponders': [['40G', '100G'] for _ in links]})"
   ]
  },
  {
   "cell_type": "code",
   "execution_count": 30,
   "metadata": {},
   "outputs": [
    {
     "data": {
      "text/html": [
       "<div>\n",
       "<style scoped>\n",
       "    .dataframe tbody tr th:only-of-type {\n",
       "        vertical-align: middle;\n",
       "    }\n",
       "\n",
       "    .dataframe tbody tr th {\n",
       "        vertical-align: top;\n",
       "    }\n",
       "\n",
       "    .dataframe thead th {\n",
       "        text-align: right;\n",
       "    }\n",
       "</style>\n",
       "<table border=\"1\" class=\"dataframe\">\n",
       "  <thead>\n",
       "    <tr style=\"text-align: right;\">\n",
       "      <th></th>\n",
       "      <th>links</th>\n",
       "      <th>transponders</th>\n",
       "    </tr>\n",
       "  </thead>\n",
       "  <tbody>\n",
       "    <tr>\n",
       "      <th>0</th>\n",
       "      <td>Duesseldorf_Essen</td>\n",
       "      <td>[40G, 100G]</td>\n",
       "    </tr>\n",
       "    <tr>\n",
       "      <th>1</th>\n",
       "      <td>Dortmund_Essen</td>\n",
       "      <td>[40G, 100G]</td>\n",
       "    </tr>\n",
       "    <tr>\n",
       "      <th>2</th>\n",
       "      <td>Wesel_Essen</td>\n",
       "      <td>[40G, 100G]</td>\n",
       "    </tr>\n",
       "    <tr>\n",
       "      <th>3</th>\n",
       "      <td>Koeln_Duesseldorf</td>\n",
       "      <td>[40G, 100G]</td>\n",
       "    </tr>\n",
       "    <tr>\n",
       "      <th>4</th>\n",
       "      <td>Aachen_Koeln</td>\n",
       "      <td>[40G, 100G]</td>\n",
       "    </tr>\n",
       "    <tr>\n",
       "      <th>...</th>\n",
       "      <td>...</td>\n",
       "      <td>...</td>\n",
       "    </tr>\n",
       "    <tr>\n",
       "      <th>83</th>\n",
       "      <td>Wuerzburg_Augsburg</td>\n",
       "      <td>[40G, 100G]</td>\n",
       "    </tr>\n",
       "    <tr>\n",
       "      <th>84</th>\n",
       "      <td>Regensburg_Passau</td>\n",
       "      <td>[40G, 100G]</td>\n",
       "    </tr>\n",
       "    <tr>\n",
       "      <th>85</th>\n",
       "      <td>Bayreuth_Nuernberg</td>\n",
       "      <td>[40G, 100G]</td>\n",
       "    </tr>\n",
       "    <tr>\n",
       "      <th>86</th>\n",
       "      <td>Wuerzburg_Nuernberg</td>\n",
       "      <td>[40G, 100G]</td>\n",
       "    </tr>\n",
       "    <tr>\n",
       "      <th>87</th>\n",
       "      <td>Regensburg_Nuernberg</td>\n",
       "      <td>[40G, 100G]</td>\n",
       "    </tr>\n",
       "  </tbody>\n",
       "</table>\n",
       "<p>88 rows × 2 columns</p>\n",
       "</div>"
      ],
      "text/plain": [
       "                   links transponders\n",
       "0      Duesseldorf_Essen  [40G, 100G]\n",
       "1         Dortmund_Essen  [40G, 100G]\n",
       "2            Wesel_Essen  [40G, 100G]\n",
       "3      Koeln_Duesseldorf  [40G, 100G]\n",
       "4           Aachen_Koeln  [40G, 100G]\n",
       "..                   ...          ...\n",
       "83    Wuerzburg_Augsburg  [40G, 100G]\n",
       "84     Regensburg_Passau  [40G, 100G]\n",
       "85    Bayreuth_Nuernberg  [40G, 100G]\n",
       "86   Wuerzburg_Nuernberg  [40G, 100G]\n",
       "87  Regensburg_Nuernberg  [40G, 100G]\n",
       "\n",
       "[88 rows x 2 columns]"
      ]
     },
     "execution_count": 30,
     "metadata": {},
     "output_type": "execute_result"
    }
   ],
   "source": [
    "chromosome"
   ]
  },
  {
   "cell_type": "code",
   "execution_count": null,
   "metadata": {},
   "outputs": [],
   "source": []
  },
  {
   "cell_type": "code",
   "execution_count": 42,
   "metadata": {},
   "outputs": [],
   "source": [
    "def create_initial_population(links: list[str], population_size: int) -> list[pd.DataFrame]:\n",
    "    def create_random_chromosome(links: list[str]) -> pd.DataFrame:\n",
    "        return pd.DataFrame({'links': links, 'transponders': [[choice(['10G', '40G', '100G']) for _ in range(randint(2, 4))] for _ in links]})\n",
    "        \n",
    "    return [create_random_chromosome(links) for _ in range(population_size)]"
   ]
  },
  {
   "cell_type": "code",
   "execution_count": 43,
   "metadata": {},
   "outputs": [
    {
     "data": {
      "text/plain": [
       "[                   links             transponders\n",
       " 0      Duesseldorf_Essen  [40G, 100G, 100G, 100G]\n",
       " 1         Dortmund_Essen    [10G, 100G, 10G, 40G]\n",
       " 2            Wesel_Essen    [40G, 100G, 40G, 10G]\n",
       " 3      Koeln_Duesseldorf     [10G, 10G, 10G, 40G]\n",
       " 4           Aachen_Koeln    [10G, 40G, 10G, 100G]\n",
       " ..                   ...                      ...\n",
       " 83    Wuerzburg_Augsburg    [40G, 40G, 40G, 100G]\n",
       " 84     Regensburg_Passau         [40G, 40G, 100G]\n",
       " 85    Bayreuth_Nuernberg              [40G, 100G]\n",
       " 86   Wuerzburg_Nuernberg         [100G, 10G, 10G]\n",
       " 87  Regensburg_Nuernberg       [100G, 100G, 100G]\n",
       " \n",
       " [88 rows x 2 columns],\n",
       "                    links           transponders\n",
       " 0      Duesseldorf_Essen        [40G, 40G, 40G]\n",
       " 1         Dortmund_Essen            [100G, 10G]\n",
       " 2            Wesel_Essen      [100G, 100G, 10G]\n",
       " 3      Koeln_Duesseldorf       [10G, 100G, 40G]\n",
       " 4           Aachen_Koeln       [100G, 10G, 10G]\n",
       " ..                   ...                    ...\n",
       " 83    Wuerzburg_Augsburg            [40G, 100G]\n",
       " 84     Regensburg_Passau       [10G, 100G, 10G]\n",
       " 85    Bayreuth_Nuernberg  [10G, 100G, 10G, 10G]\n",
       " 86   Wuerzburg_Nuernberg       [100G, 10G, 10G]\n",
       " 87  Regensburg_Nuernberg        [10G, 40G, 10G]\n",
       " \n",
       " [88 rows x 2 columns],\n",
       "                    links            transponders\n",
       " 0      Duesseldorf_Essen        [100G, 10G, 40G]\n",
       " 1         Dortmund_Essen  [100G, 10G, 40G, 100G]\n",
       " 2            Wesel_Essen   [100G, 40G, 40G, 10G]\n",
       " 3      Koeln_Duesseldorf             [10G, 100G]\n",
       " 4           Aachen_Koeln         [40G, 10G, 40G]\n",
       " ..                   ...                     ...\n",
       " 83    Wuerzburg_Augsburg    [10G, 10G, 10G, 10G]\n",
       " 84     Regensburg_Passau              [10G, 40G]\n",
       " 85    Bayreuth_Nuernberg              [10G, 40G]\n",
       " 86   Wuerzburg_Nuernberg            [100G, 100G]\n",
       " 87  Regensburg_Nuernberg   [100G, 40G, 40G, 40G]\n",
       " \n",
       " [88 rows x 2 columns],\n",
       "                    links            transponders\n",
       " 0      Duesseldorf_Essen             [100G, 10G]\n",
       " 1         Dortmund_Essen  [10G, 40G, 100G, 100G]\n",
       " 2            Wesel_Essen              [10G, 10G]\n",
       " 3      Koeln_Duesseldorf              [40G, 10G]\n",
       " 4           Aachen_Koeln              [10G, 10G]\n",
       " ..                   ...                     ...\n",
       " 83    Wuerzburg_Augsburg    [40G, 40G, 40G, 40G]\n",
       " 84     Regensburg_Passau              [10G, 10G]\n",
       " 85    Bayreuth_Nuernberg   [100G, 40G, 10G, 40G]\n",
       " 86   Wuerzburg_Nuernberg             [100G, 40G]\n",
       " 87  Regensburg_Nuernberg             [100G, 10G]\n",
       " \n",
       " [88 rows x 2 columns],\n",
       "                    links          transponders\n",
       " 0      Duesseldorf_Essen     [100G, 100G, 40G]\n",
       " 1         Dortmund_Essen      [100G, 40G, 10G]\n",
       " 2            Wesel_Essen            [40G, 40G]\n",
       " 3      Koeln_Duesseldorf           [10G, 100G]\n",
       " 4           Aachen_Koeln      [100G, 40G, 10G]\n",
       " ..                   ...                   ...\n",
       " 83    Wuerzburg_Augsburg     [100G, 40G, 100G]\n",
       " 84     Regensburg_Passau           [10G, 100G]\n",
       " 85    Bayreuth_Nuernberg  [40G, 10G, 10G, 10G]\n",
       " 86   Wuerzburg_Nuernberg            [10G, 10G]\n",
       " 87  Regensburg_Nuernberg      [40G, 100G, 40G]\n",
       " \n",
       " [88 rows x 2 columns]]"
      ]
     },
     "execution_count": 43,
     "metadata": {},
     "output_type": "execute_result"
    }
   ],
   "source": [
    "create_initial_population(links, 5)"
   ]
  },
  {
   "cell_type": "code",
   "execution_count": null,
   "metadata": {},
   "outputs": [],
   "source": []
  }
 ],
 "metadata": {
  "kernelspec": {
   "display_name": "Python 3",
   "language": "python",
   "name": "python3"
  },
  "language_info": {
   "codemirror_mode": {
    "name": "ipython",
    "version": 3
   },
   "file_extension": ".py",
   "mimetype": "text/x-python",
   "name": "python",
   "nbconvert_exporter": "python",
   "pygments_lexer": "ipython3",
   "version": "3.9.2"
  }
 },
 "nbformat": 4,
 "nbformat_minor": 4
}
